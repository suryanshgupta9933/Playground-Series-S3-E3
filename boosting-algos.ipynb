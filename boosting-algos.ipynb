{
 "cells": [
  {
   "cell_type": "markdown",
   "id": "b3750055",
   "metadata": {
    "papermill": {
     "duration": 0.050387,
     "end_time": "2023-01-22T07:25:08.732811",
     "exception": false,
     "start_time": "2023-01-22T07:25:08.682424",
     "status": "completed"
    },
    "tags": []
   },
   "source": [
    "# All Boosting Algorithms"
   ]
  },
  {
   "cell_type": "markdown",
   "id": "9e5aa247",
   "metadata": {
    "papermill": {
     "duration": 0.044758,
     "end_time": "2023-01-22T07:25:08.822856",
     "exception": false,
     "start_time": "2023-01-22T07:25:08.778098",
     "status": "completed"
    },
    "tags": []
   },
   "source": [
    "Importing Dependencies"
   ]
  },
  {
   "cell_type": "code",
   "execution_count": 1,
   "id": "03026606",
   "metadata": {
    "execution": {
     "iopub.execute_input": "2023-01-22T07:25:08.925096Z",
     "iopub.status.busy": "2023-01-22T07:25:08.924404Z",
     "iopub.status.idle": "2023-01-22T07:25:11.445802Z",
     "shell.execute_reply": "2023-01-22T07:25:11.444986Z",
     "shell.execute_reply.started": "2023-01-22T07:24:11.417782Z"
    },
    "papermill": {
     "duration": 2.578162,
     "end_time": "2023-01-22T07:25:11.445980",
     "exception": false,
     "start_time": "2023-01-22T07:25:08.867818",
     "status": "completed"
    },
    "tags": []
   },
   "outputs": [
    {
     "data": {
      "text/html": [
       "<style type='text/css'>\n",
       ".datatable table.frame { margin-bottom: 0; }\n",
       ".datatable table.frame thead { border-bottom: none; }\n",
       ".datatable table.frame tr.coltypes td {  color: #FFFFFF;  line-height: 6px;  padding: 0 0.5em;}\n",
       ".datatable .bool    { background: #DDDD99; }\n",
       ".datatable .object  { background: #565656; }\n",
       ".datatable .int     { background: #5D9E5D; }\n",
       ".datatable .float   { background: #4040CC; }\n",
       ".datatable .str     { background: #CC4040; }\n",
       ".datatable .time    { background: #40CC40; }\n",
       ".datatable .row_index {  background: var(--jp-border-color3);  border-right: 1px solid var(--jp-border-color0);  color: var(--jp-ui-font-color3);  font-size: 9px;}\n",
       ".datatable .frame tbody td { text-align: left; }\n",
       ".datatable .frame tr.coltypes .row_index {  background: var(--jp-border-color0);}\n",
       ".datatable th:nth-child(2) { padding-left: 12px; }\n",
       ".datatable .hellipsis {  color: var(--jp-cell-editor-border-color);}\n",
       ".datatable .vellipsis {  background: var(--jp-layout-color0);  color: var(--jp-cell-editor-border-color);}\n",
       ".datatable .na {  color: var(--jp-cell-editor-border-color);  font-size: 80%;}\n",
       ".datatable .sp {  opacity: 0.25;}\n",
       ".datatable .footer { font-size: 9px; }\n",
       ".datatable .frame_dimensions {  background: var(--jp-border-color3);  border-top: 1px solid var(--jp-border-color0);  color: var(--jp-ui-font-color3);  display: inline-block;  opacity: 0.6;  padding: 1px 10px 1px 5px;}\n",
       "</style>\n"
      ],
      "text/plain": [
       "<IPython.core.display.HTML object>"
      ]
     },
     "metadata": {},
     "output_type": "display_data"
    }
   ],
   "source": [
    "import pandas as pd\n",
    "import numpy as np\n",
    "import seaborn as sns\n",
    "from xgboost import XGBRegressor\n",
    "from sklearn.preprocessing import LabelEncoder\n",
    "from lightgbm import LGBMRegressor, LGBMClassifier\n",
    "from catboost import CatBoostRegressor, Pool\n",
    "from sklearn.metrics import roc_auc_score\n",
    "from sklearn.model_selection import train_test_split, StratifiedKFold"
   ]
  },
  {
   "cell_type": "markdown",
   "id": "ff5fd4be",
   "metadata": {
    "papermill": {
     "duration": 0.045483,
     "end_time": "2023-01-22T07:25:11.537592",
     "exception": false,
     "start_time": "2023-01-22T07:25:11.492109",
     "status": "completed"
    },
    "tags": []
   },
   "source": [
    "Reading Our CSV Data"
   ]
  },
  {
   "cell_type": "code",
   "execution_count": 2,
   "id": "de33e976",
   "metadata": {
    "execution": {
     "iopub.execute_input": "2023-01-22T07:25:11.634144Z",
     "iopub.status.busy": "2023-01-22T07:25:11.633408Z",
     "iopub.status.idle": "2023-01-22T07:25:11.691589Z",
     "shell.execute_reply": "2023-01-22T07:25:11.692222Z",
     "shell.execute_reply.started": "2023-01-22T07:24:14.009309Z"
    },
    "papermill": {
     "duration": 0.10914,
     "end_time": "2023-01-22T07:25:11.692401",
     "exception": false,
     "start_time": "2023-01-22T07:25:11.583261",
     "status": "completed"
    },
    "tags": []
   },
   "outputs": [],
   "source": [
    "original = pd.read_csv(\"/kaggle/input/ibm-hr-analytics-attrition-dataset/WA_Fn-UseC_-HR-Employee-Attrition.csv\")\n",
    "train = pd.read_csv(\"/kaggle/input/playground-series-s3e3/train.csv\")\n",
    "test = pd.read_csv(\"/kaggle/input/playground-series-s3e3/test.csv\")"
   ]
  },
  {
   "cell_type": "markdown",
   "id": "c81ec872",
   "metadata": {
    "papermill": {
     "duration": 0.04509,
     "end_time": "2023-01-22T07:25:11.783118",
     "exception": false,
     "start_time": "2023-01-22T07:25:11.738028",
     "status": "completed"
    },
    "tags": []
   },
   "source": [
    "# Analyzing Data"
   ]
  },
  {
   "cell_type": "markdown",
   "id": "f9eaeb54",
   "metadata": {
    "papermill": {
     "duration": 0.04494,
     "end_time": "2023-01-22T07:25:11.873361",
     "exception": false,
     "start_time": "2023-01-22T07:25:11.828421",
     "status": "completed"
    },
    "tags": []
   },
   "source": [
    "Mapping Data Correctly"
   ]
  },
  {
   "cell_type": "code",
   "execution_count": 3,
   "id": "f9699822",
   "metadata": {
    "execution": {
     "iopub.execute_input": "2023-01-22T07:25:11.981680Z",
     "iopub.status.busy": "2023-01-22T07:25:11.980943Z",
     "iopub.status.idle": "2023-01-22T07:25:11.982873Z",
     "shell.execute_reply": "2023-01-22T07:25:11.983379Z",
     "shell.execute_reply.started": "2023-01-22T07:24:14.075952Z"
    },
    "papermill": {
     "duration": 0.065176,
     "end_time": "2023-01-22T07:25:11.983606",
     "exception": false,
     "start_time": "2023-01-22T07:25:11.918430",
     "status": "completed"
    },
    "tags": []
   },
   "outputs": [],
   "source": [
    "original[\"Attrition\"] = original[\"Attrition\"].map({\"Yes\": 1, \"No\": 0})"
   ]
  },
  {
   "cell_type": "code",
   "execution_count": 4,
   "id": "d0d5d01c",
   "metadata": {
    "execution": {
     "iopub.execute_input": "2023-01-22T07:25:12.078242Z",
     "iopub.status.busy": "2023-01-22T07:25:12.077513Z",
     "iopub.status.idle": "2023-01-22T07:25:12.085964Z",
     "shell.execute_reply": "2023-01-22T07:25:12.086435Z",
     "shell.execute_reply.started": "2023-01-22T07:24:14.092941Z"
    },
    "papermill": {
     "duration": 0.057205,
     "end_time": "2023-01-22T07:25:12.086642",
     "exception": false,
     "start_time": "2023-01-22T07:25:12.029437",
     "status": "completed"
    },
    "tags": []
   },
   "outputs": [],
   "source": [
    "train = train.drop([\"id\"], axis = 1)\n",
    "test = test.drop([\"id\"], axis = 1)\n",
    "original = original.drop([\"EmployeeNumber\"], axis = 1)"
   ]
  },
  {
   "cell_type": "code",
   "execution_count": 5,
   "id": "48e46c01",
   "metadata": {
    "execution": {
     "iopub.execute_input": "2023-01-22T07:25:12.181484Z",
     "iopub.status.busy": "2023-01-22T07:25:12.180835Z",
     "iopub.status.idle": "2023-01-22T07:25:12.202254Z",
     "shell.execute_reply": "2023-01-22T07:25:12.201673Z",
     "shell.execute_reply.started": "2023-01-22T07:24:14.102757Z"
    },
    "papermill": {
     "duration": 0.069874,
     "end_time": "2023-01-22T07:25:12.202410",
     "exception": false,
     "start_time": "2023-01-22T07:25:12.132536",
     "status": "completed"
    },
    "tags": []
   },
   "outputs": [
    {
     "name": "stdout",
     "output_type": "stream",
     "text": [
      "<class 'pandas.core.frame.DataFrame'>\n",
      "RangeIndex: 1470 entries, 0 to 1469\n",
      "Data columns (total 34 columns):\n",
      " #   Column                    Non-Null Count  Dtype \n",
      "---  ------                    --------------  ----- \n",
      " 0   Age                       1470 non-null   int64 \n",
      " 1   Attrition                 1470 non-null   int64 \n",
      " 2   BusinessTravel            1470 non-null   object\n",
      " 3   DailyRate                 1470 non-null   int64 \n",
      " 4   Department                1470 non-null   object\n",
      " 5   DistanceFromHome          1470 non-null   int64 \n",
      " 6   Education                 1470 non-null   int64 \n",
      " 7   EducationField            1470 non-null   object\n",
      " 8   EmployeeCount             1470 non-null   int64 \n",
      " 9   EnvironmentSatisfaction   1470 non-null   int64 \n",
      " 10  Gender                    1470 non-null   object\n",
      " 11  HourlyRate                1470 non-null   int64 \n",
      " 12  JobInvolvement            1470 non-null   int64 \n",
      " 13  JobLevel                  1470 non-null   int64 \n",
      " 14  JobRole                   1470 non-null   object\n",
      " 15  JobSatisfaction           1470 non-null   int64 \n",
      " 16  MaritalStatus             1470 non-null   object\n",
      " 17  MonthlyIncome             1470 non-null   int64 \n",
      " 18  MonthlyRate               1470 non-null   int64 \n",
      " 19  NumCompaniesWorked        1470 non-null   int64 \n",
      " 20  Over18                    1470 non-null   object\n",
      " 21  OverTime                  1470 non-null   object\n",
      " 22  PercentSalaryHike         1470 non-null   int64 \n",
      " 23  PerformanceRating         1470 non-null   int64 \n",
      " 24  RelationshipSatisfaction  1470 non-null   int64 \n",
      " 25  StandardHours             1470 non-null   int64 \n",
      " 26  StockOptionLevel          1470 non-null   int64 \n",
      " 27  TotalWorkingYears         1470 non-null   int64 \n",
      " 28  TrainingTimesLastYear     1470 non-null   int64 \n",
      " 29  WorkLifeBalance           1470 non-null   int64 \n",
      " 30  YearsAtCompany            1470 non-null   int64 \n",
      " 31  YearsInCurrentRole        1470 non-null   int64 \n",
      " 32  YearsSinceLastPromotion   1470 non-null   int64 \n",
      " 33  YearsWithCurrManager      1470 non-null   int64 \n",
      "dtypes: int64(26), object(8)\n",
      "memory usage: 390.6+ KB\n"
     ]
    }
   ],
   "source": [
    "original.info()"
   ]
  },
  {
   "cell_type": "code",
   "execution_count": 6,
   "id": "3026d45f",
   "metadata": {
    "execution": {
     "iopub.execute_input": "2023-01-22T07:25:12.300632Z",
     "iopub.status.busy": "2023-01-22T07:25:12.299941Z",
     "iopub.status.idle": "2023-01-22T07:25:12.313810Z",
     "shell.execute_reply": "2023-01-22T07:25:12.313071Z",
     "shell.execute_reply.started": "2023-01-22T07:24:14.125480Z"
    },
    "papermill": {
     "duration": 0.064812,
     "end_time": "2023-01-22T07:25:12.314097",
     "exception": false,
     "start_time": "2023-01-22T07:25:12.249285",
     "status": "completed"
    },
    "tags": []
   },
   "outputs": [
    {
     "name": "stdout",
     "output_type": "stream",
     "text": [
      "<class 'pandas.core.frame.DataFrame'>\n",
      "RangeIndex: 1677 entries, 0 to 1676\n",
      "Data columns (total 34 columns):\n",
      " #   Column                    Non-Null Count  Dtype \n",
      "---  ------                    --------------  ----- \n",
      " 0   Age                       1677 non-null   int64 \n",
      " 1   BusinessTravel            1677 non-null   object\n",
      " 2   DailyRate                 1677 non-null   int64 \n",
      " 3   Department                1677 non-null   object\n",
      " 4   DistanceFromHome          1677 non-null   int64 \n",
      " 5   Education                 1677 non-null   int64 \n",
      " 6   EducationField            1677 non-null   object\n",
      " 7   EmployeeCount             1677 non-null   int64 \n",
      " 8   EnvironmentSatisfaction   1677 non-null   int64 \n",
      " 9   Gender                    1677 non-null   object\n",
      " 10  HourlyRate                1677 non-null   int64 \n",
      " 11  JobInvolvement            1677 non-null   int64 \n",
      " 12  JobLevel                  1677 non-null   int64 \n",
      " 13  JobRole                   1677 non-null   object\n",
      " 14  JobSatisfaction           1677 non-null   int64 \n",
      " 15  MaritalStatus             1677 non-null   object\n",
      " 16  MonthlyIncome             1677 non-null   int64 \n",
      " 17  MonthlyRate               1677 non-null   int64 \n",
      " 18  NumCompaniesWorked        1677 non-null   int64 \n",
      " 19  Over18                    1677 non-null   object\n",
      " 20  OverTime                  1677 non-null   object\n",
      " 21  PercentSalaryHike         1677 non-null   int64 \n",
      " 22  PerformanceRating         1677 non-null   int64 \n",
      " 23  RelationshipSatisfaction  1677 non-null   int64 \n",
      " 24  StandardHours             1677 non-null   int64 \n",
      " 25  StockOptionLevel          1677 non-null   int64 \n",
      " 26  TotalWorkingYears         1677 non-null   int64 \n",
      " 27  TrainingTimesLastYear     1677 non-null   int64 \n",
      " 28  WorkLifeBalance           1677 non-null   int64 \n",
      " 29  YearsAtCompany            1677 non-null   int64 \n",
      " 30  YearsInCurrentRole        1677 non-null   int64 \n",
      " 31  YearsSinceLastPromotion   1677 non-null   int64 \n",
      " 32  YearsWithCurrManager      1677 non-null   int64 \n",
      " 33  Attrition                 1677 non-null   int64 \n",
      "dtypes: int64(26), object(8)\n",
      "memory usage: 445.6+ KB\n"
     ]
    }
   ],
   "source": [
    "train.info()"
   ]
  },
  {
   "cell_type": "markdown",
   "id": "24cfd0ea",
   "metadata": {
    "papermill": {
     "duration": 0.048754,
     "end_time": "2023-01-22T07:25:12.410016",
     "exception": false,
     "start_time": "2023-01-22T07:25:12.361262",
     "status": "completed"
    },
    "tags": []
   },
   "source": [
    "Both Original and Train csv match now, So we can Concatenate"
   ]
  },
  {
   "cell_type": "code",
   "execution_count": 7,
   "id": "72a07c8b",
   "metadata": {
    "execution": {
     "iopub.execute_input": "2023-01-22T07:25:12.510494Z",
     "iopub.status.busy": "2023-01-22T07:25:12.509873Z",
     "iopub.status.idle": "2023-01-22T07:25:12.514323Z",
     "shell.execute_reply": "2023-01-22T07:25:12.514975Z",
     "shell.execute_reply.started": "2023-01-22T07:24:14.142546Z"
    },
    "papermill": {
     "duration": 0.05893,
     "end_time": "2023-01-22T07:25:12.515152",
     "exception": false,
     "start_time": "2023-01-22T07:25:12.456222",
     "status": "completed"
    },
    "tags": []
   },
   "outputs": [],
   "source": [
    "train = pd.concat([train, original], axis = 0)"
   ]
  },
  {
   "cell_type": "code",
   "execution_count": 8,
   "id": "75315e3b",
   "metadata": {
    "execution": {
     "iopub.execute_input": "2023-01-22T07:25:12.614380Z",
     "iopub.status.busy": "2023-01-22T07:25:12.610401Z",
     "iopub.status.idle": "2023-01-22T07:25:12.619942Z",
     "shell.execute_reply": "2023-01-22T07:25:12.620507Z",
     "shell.execute_reply.started": "2023-01-22T07:24:14.156871Z"
    },
    "papermill": {
     "duration": 0.059421,
     "end_time": "2023-01-22T07:25:12.620710",
     "exception": false,
     "start_time": "2023-01-22T07:25:12.561289",
     "status": "completed"
    },
    "tags": []
   },
   "outputs": [],
   "source": [
    "train.reset_index(inplace = True)\n",
    "train = train.drop([\"index\"], axis = 1)"
   ]
  },
  {
   "cell_type": "code",
   "execution_count": 9,
   "id": "3c8f79d8",
   "metadata": {
    "execution": {
     "iopub.execute_input": "2023-01-22T07:25:12.719522Z",
     "iopub.status.busy": "2023-01-22T07:25:12.718850Z",
     "iopub.status.idle": "2023-01-22T07:25:12.803358Z",
     "shell.execute_reply": "2023-01-22T07:25:12.802715Z",
     "shell.execute_reply.started": "2023-01-22T07:24:14.172361Z"
    },
    "papermill": {
     "duration": 0.133468,
     "end_time": "2023-01-22T07:25:12.803529",
     "exception": false,
     "start_time": "2023-01-22T07:25:12.670061",
     "status": "completed"
    },
    "tags": []
   },
   "outputs": [
    {
     "data": {
      "text/html": [
       "<div>\n",
       "<style scoped>\n",
       "    .dataframe tbody tr th:only-of-type {\n",
       "        vertical-align: middle;\n",
       "    }\n",
       "\n",
       "    .dataframe tbody tr th {\n",
       "        vertical-align: top;\n",
       "    }\n",
       "\n",
       "    .dataframe thead th {\n",
       "        text-align: right;\n",
       "    }\n",
       "</style>\n",
       "<table border=\"1\" class=\"dataframe\">\n",
       "  <thead>\n",
       "    <tr style=\"text-align: right;\">\n",
       "      <th></th>\n",
       "      <th>Age</th>\n",
       "      <th>DailyRate</th>\n",
       "      <th>DistanceFromHome</th>\n",
       "      <th>Education</th>\n",
       "      <th>EmployeeCount</th>\n",
       "      <th>EnvironmentSatisfaction</th>\n",
       "      <th>HourlyRate</th>\n",
       "      <th>JobInvolvement</th>\n",
       "      <th>JobLevel</th>\n",
       "      <th>JobSatisfaction</th>\n",
       "      <th>...</th>\n",
       "      <th>StandardHours</th>\n",
       "      <th>StockOptionLevel</th>\n",
       "      <th>TotalWorkingYears</th>\n",
       "      <th>TrainingTimesLastYear</th>\n",
       "      <th>WorkLifeBalance</th>\n",
       "      <th>YearsAtCompany</th>\n",
       "      <th>YearsInCurrentRole</th>\n",
       "      <th>YearsSinceLastPromotion</th>\n",
       "      <th>YearsWithCurrManager</th>\n",
       "      <th>Attrition</th>\n",
       "    </tr>\n",
       "  </thead>\n",
       "  <tbody>\n",
       "    <tr>\n",
       "      <th>count</th>\n",
       "      <td>3147.000000</td>\n",
       "      <td>3147.000000</td>\n",
       "      <td>3147.000000</td>\n",
       "      <td>3147.000000</td>\n",
       "      <td>3147.0</td>\n",
       "      <td>3147.000000</td>\n",
       "      <td>3147.000000</td>\n",
       "      <td>3147.000000</td>\n",
       "      <td>3147.000000</td>\n",
       "      <td>3147.000000</td>\n",
       "      <td>...</td>\n",
       "      <td>3147.0</td>\n",
       "      <td>3147.000000</td>\n",
       "      <td>3147.000000</td>\n",
       "      <td>3147.000000</td>\n",
       "      <td>3147.000000</td>\n",
       "      <td>3147.000000</td>\n",
       "      <td>3147.000000</td>\n",
       "      <td>3147.000000</td>\n",
       "      <td>3147.000000</td>\n",
       "      <td>3147.000000</td>\n",
       "    </tr>\n",
       "    <tr>\n",
       "      <th>mean</th>\n",
       "      <td>36.451223</td>\n",
       "      <td>850.586273</td>\n",
       "      <td>8.921513</td>\n",
       "      <td>2.926279</td>\n",
       "      <td>1.0</td>\n",
       "      <td>2.741023</td>\n",
       "      <td>66.907531</td>\n",
       "      <td>2.757865</td>\n",
       "      <td>2.029234</td>\n",
       "      <td>2.762313</td>\n",
       "      <td>...</td>\n",
       "      <td>80.0</td>\n",
       "      <td>0.755323</td>\n",
       "      <td>10.975850</td>\n",
       "      <td>2.763902</td>\n",
       "      <td>2.765809</td>\n",
       "      <td>6.900858</td>\n",
       "      <td>4.183985</td>\n",
       "      <td>2.076263</td>\n",
       "      <td>4.156975</td>\n",
       "      <td>0.138862</td>\n",
       "    </tr>\n",
       "    <tr>\n",
       "      <th>std</th>\n",
       "      <td>8.815861</td>\n",
       "      <td>390.859919</td>\n",
       "      <td>7.961278</td>\n",
       "      <td>1.032051</td>\n",
       "      <td>0.0</td>\n",
       "      <td>1.089733</td>\n",
       "      <td>19.877918</td>\n",
       "      <td>0.680183</td>\n",
       "      <td>1.094590</td>\n",
       "      <td>1.100224</td>\n",
       "      <td>...</td>\n",
       "      <td>0.0</td>\n",
       "      <td>0.810688</td>\n",
       "      <td>7.509438</td>\n",
       "      <td>1.214918</td>\n",
       "      <td>0.675707</td>\n",
       "      <td>5.998015</td>\n",
       "      <td>3.601691</td>\n",
       "      <td>3.130744</td>\n",
       "      <td>3.572003</td>\n",
       "      <td>0.345858</td>\n",
       "    </tr>\n",
       "    <tr>\n",
       "      <th>min</th>\n",
       "      <td>18.000000</td>\n",
       "      <td>102.000000</td>\n",
       "      <td>1.000000</td>\n",
       "      <td>1.000000</td>\n",
       "      <td>1.0</td>\n",
       "      <td>1.000000</td>\n",
       "      <td>30.000000</td>\n",
       "      <td>1.000000</td>\n",
       "      <td>1.000000</td>\n",
       "      <td>1.000000</td>\n",
       "      <td>...</td>\n",
       "      <td>80.0</td>\n",
       "      <td>0.000000</td>\n",
       "      <td>0.000000</td>\n",
       "      <td>0.000000</td>\n",
       "      <td>1.000000</td>\n",
       "      <td>0.000000</td>\n",
       "      <td>0.000000</td>\n",
       "      <td>0.000000</td>\n",
       "      <td>0.000000</td>\n",
       "      <td>0.000000</td>\n",
       "    </tr>\n",
       "    <tr>\n",
       "      <th>25%</th>\n",
       "      <td>30.000000</td>\n",
       "      <td>543.000000</td>\n",
       "      <td>2.000000</td>\n",
       "      <td>2.000000</td>\n",
       "      <td>1.0</td>\n",
       "      <td>2.000000</td>\n",
       "      <td>50.000000</td>\n",
       "      <td>2.000000</td>\n",
       "      <td>1.000000</td>\n",
       "      <td>2.000000</td>\n",
       "      <td>...</td>\n",
       "      <td>80.0</td>\n",
       "      <td>0.000000</td>\n",
       "      <td>6.000000</td>\n",
       "      <td>2.000000</td>\n",
       "      <td>2.000000</td>\n",
       "      <td>3.000000</td>\n",
       "      <td>2.000000</td>\n",
       "      <td>0.000000</td>\n",
       "      <td>2.000000</td>\n",
       "      <td>0.000000</td>\n",
       "    </tr>\n",
       "    <tr>\n",
       "      <th>50%</th>\n",
       "      <td>35.000000</td>\n",
       "      <td>852.000000</td>\n",
       "      <td>7.000000</td>\n",
       "      <td>3.000000</td>\n",
       "      <td>1.0</td>\n",
       "      <td>3.000000</td>\n",
       "      <td>67.000000</td>\n",
       "      <td>3.000000</td>\n",
       "      <td>2.000000</td>\n",
       "      <td>3.000000</td>\n",
       "      <td>...</td>\n",
       "      <td>80.0</td>\n",
       "      <td>1.000000</td>\n",
       "      <td>9.000000</td>\n",
       "      <td>3.000000</td>\n",
       "      <td>3.000000</td>\n",
       "      <td>5.000000</td>\n",
       "      <td>3.000000</td>\n",
       "      <td>1.000000</td>\n",
       "      <td>3.000000</td>\n",
       "      <td>0.000000</td>\n",
       "    </tr>\n",
       "    <tr>\n",
       "      <th>75%</th>\n",
       "      <td>42.000000</td>\n",
       "      <td>1198.500000</td>\n",
       "      <td>13.000000</td>\n",
       "      <td>4.000000</td>\n",
       "      <td>1.0</td>\n",
       "      <td>4.000000</td>\n",
       "      <td>84.000000</td>\n",
       "      <td>3.000000</td>\n",
       "      <td>3.000000</td>\n",
       "      <td>4.000000</td>\n",
       "      <td>...</td>\n",
       "      <td>80.0</td>\n",
       "      <td>1.000000</td>\n",
       "      <td>15.000000</td>\n",
       "      <td>3.000000</td>\n",
       "      <td>3.000000</td>\n",
       "      <td>9.000000</td>\n",
       "      <td>7.000000</td>\n",
       "      <td>2.000000</td>\n",
       "      <td>7.000000</td>\n",
       "      <td>0.000000</td>\n",
       "    </tr>\n",
       "    <tr>\n",
       "      <th>max</th>\n",
       "      <td>60.000000</td>\n",
       "      <td>3921.000000</td>\n",
       "      <td>29.000000</td>\n",
       "      <td>15.000000</td>\n",
       "      <td>1.0</td>\n",
       "      <td>4.000000</td>\n",
       "      <td>100.000000</td>\n",
       "      <td>4.000000</td>\n",
       "      <td>7.000000</td>\n",
       "      <td>4.000000</td>\n",
       "      <td>...</td>\n",
       "      <td>80.0</td>\n",
       "      <td>3.000000</td>\n",
       "      <td>41.000000</td>\n",
       "      <td>6.000000</td>\n",
       "      <td>4.000000</td>\n",
       "      <td>41.000000</td>\n",
       "      <td>18.000000</td>\n",
       "      <td>15.000000</td>\n",
       "      <td>17.000000</td>\n",
       "      <td>1.000000</td>\n",
       "    </tr>\n",
       "  </tbody>\n",
       "</table>\n",
       "<p>8 rows × 26 columns</p>\n",
       "</div>"
      ],
      "text/plain": [
       "               Age    DailyRate  DistanceFromHome    Education  EmployeeCount  \\\n",
       "count  3147.000000  3147.000000       3147.000000  3147.000000         3147.0   \n",
       "mean     36.451223   850.586273          8.921513     2.926279            1.0   \n",
       "std       8.815861   390.859919          7.961278     1.032051            0.0   \n",
       "min      18.000000   102.000000          1.000000     1.000000            1.0   \n",
       "25%      30.000000   543.000000          2.000000     2.000000            1.0   \n",
       "50%      35.000000   852.000000          7.000000     3.000000            1.0   \n",
       "75%      42.000000  1198.500000         13.000000     4.000000            1.0   \n",
       "max      60.000000  3921.000000         29.000000    15.000000            1.0   \n",
       "\n",
       "       EnvironmentSatisfaction   HourlyRate  JobInvolvement     JobLevel  \\\n",
       "count              3147.000000  3147.000000     3147.000000  3147.000000   \n",
       "mean                  2.741023    66.907531        2.757865     2.029234   \n",
       "std                   1.089733    19.877918        0.680183     1.094590   \n",
       "min                   1.000000    30.000000        1.000000     1.000000   \n",
       "25%                   2.000000    50.000000        2.000000     1.000000   \n",
       "50%                   3.000000    67.000000        3.000000     2.000000   \n",
       "75%                   4.000000    84.000000        3.000000     3.000000   \n",
       "max                   4.000000   100.000000        4.000000     7.000000   \n",
       "\n",
       "       JobSatisfaction  ...  StandardHours  StockOptionLevel  \\\n",
       "count      3147.000000  ...         3147.0       3147.000000   \n",
       "mean          2.762313  ...           80.0          0.755323   \n",
       "std           1.100224  ...            0.0          0.810688   \n",
       "min           1.000000  ...           80.0          0.000000   \n",
       "25%           2.000000  ...           80.0          0.000000   \n",
       "50%           3.000000  ...           80.0          1.000000   \n",
       "75%           4.000000  ...           80.0          1.000000   \n",
       "max           4.000000  ...           80.0          3.000000   \n",
       "\n",
       "       TotalWorkingYears  TrainingTimesLastYear  WorkLifeBalance  \\\n",
       "count        3147.000000            3147.000000      3147.000000   \n",
       "mean           10.975850               2.763902         2.765809   \n",
       "std             7.509438               1.214918         0.675707   \n",
       "min             0.000000               0.000000         1.000000   \n",
       "25%             6.000000               2.000000         2.000000   \n",
       "50%             9.000000               3.000000         3.000000   \n",
       "75%            15.000000               3.000000         3.000000   \n",
       "max            41.000000               6.000000         4.000000   \n",
       "\n",
       "       YearsAtCompany  YearsInCurrentRole  YearsSinceLastPromotion  \\\n",
       "count     3147.000000         3147.000000              3147.000000   \n",
       "mean         6.900858            4.183985                 2.076263   \n",
       "std          5.998015            3.601691                 3.130744   \n",
       "min          0.000000            0.000000                 0.000000   \n",
       "25%          3.000000            2.000000                 0.000000   \n",
       "50%          5.000000            3.000000                 1.000000   \n",
       "75%          9.000000            7.000000                 2.000000   \n",
       "max         41.000000           18.000000                15.000000   \n",
       "\n",
       "       YearsWithCurrManager    Attrition  \n",
       "count           3147.000000  3147.000000  \n",
       "mean               4.156975     0.138862  \n",
       "std                3.572003     0.345858  \n",
       "min                0.000000     0.000000  \n",
       "25%                2.000000     0.000000  \n",
       "50%                3.000000     0.000000  \n",
       "75%                7.000000     0.000000  \n",
       "max               17.000000     1.000000  \n",
       "\n",
       "[8 rows x 26 columns]"
      ]
     },
     "execution_count": 9,
     "metadata": {},
     "output_type": "execute_result"
    }
   ],
   "source": [
    "train.describe()"
   ]
  },
  {
   "cell_type": "code",
   "execution_count": 10,
   "id": "d2701a8b",
   "metadata": {
    "execution": {
     "iopub.execute_input": "2023-01-22T07:25:12.902943Z",
     "iopub.status.busy": "2023-01-22T07:25:12.902248Z",
     "iopub.status.idle": "2023-01-22T07:25:12.912772Z",
     "shell.execute_reply": "2023-01-22T07:25:12.913272Z",
     "shell.execute_reply.started": "2023-01-22T07:24:14.262295Z"
    },
    "papermill": {
     "duration": 0.062317,
     "end_time": "2023-01-22T07:25:12.913477",
     "exception": false,
     "start_time": "2023-01-22T07:25:12.851160",
     "status": "completed"
    },
    "tags": []
   },
   "outputs": [
    {
     "data": {
      "text/plain": [
       "Age                         0\n",
       "BusinessTravel              0\n",
       "DailyRate                   0\n",
       "Department                  0\n",
       "DistanceFromHome            0\n",
       "Education                   0\n",
       "EducationField              0\n",
       "EmployeeCount               0\n",
       "EnvironmentSatisfaction     0\n",
       "Gender                      0\n",
       "HourlyRate                  0\n",
       "JobInvolvement              0\n",
       "JobLevel                    0\n",
       "JobRole                     0\n",
       "JobSatisfaction             0\n",
       "MaritalStatus               0\n",
       "MonthlyIncome               0\n",
       "MonthlyRate                 0\n",
       "NumCompaniesWorked          0\n",
       "Over18                      0\n",
       "OverTime                    0\n",
       "PercentSalaryHike           0\n",
       "PerformanceRating           0\n",
       "RelationshipSatisfaction    0\n",
       "StandardHours               0\n",
       "StockOptionLevel            0\n",
       "TotalWorkingYears           0\n",
       "TrainingTimesLastYear       0\n",
       "WorkLifeBalance             0\n",
       "YearsAtCompany              0\n",
       "YearsInCurrentRole          0\n",
       "YearsSinceLastPromotion     0\n",
       "YearsWithCurrManager        0\n",
       "Attrition                   0\n",
       "dtype: int64"
      ]
     },
     "execution_count": 10,
     "metadata": {},
     "output_type": "execute_result"
    }
   ],
   "source": [
    "train.isnull().sum()"
   ]
  },
  {
   "cell_type": "markdown",
   "id": "5c8eb34a",
   "metadata": {
    "papermill": {
     "duration": 0.048733,
     "end_time": "2023-01-22T07:25:13.011405",
     "exception": false,
     "start_time": "2023-01-22T07:25:12.962672",
     "status": "completed"
    },
    "tags": []
   },
   "source": [
    "Preprocessing Our Data"
   ]
  },
  {
   "cell_type": "code",
   "execution_count": 11,
   "id": "7ec7b9cd",
   "metadata": {
    "execution": {
     "iopub.execute_input": "2023-01-22T07:25:13.113459Z",
     "iopub.status.busy": "2023-01-22T07:25:13.112738Z",
     "iopub.status.idle": "2023-01-22T07:25:13.115517Z",
     "shell.execute_reply": "2023-01-22T07:25:13.116032Z",
     "shell.execute_reply.started": "2023-01-22T07:24:14.274589Z"
    },
    "papermill": {
     "duration": 0.057331,
     "end_time": "2023-01-22T07:25:13.116230",
     "exception": false,
     "start_time": "2023-01-22T07:25:13.058899",
     "status": "completed"
    },
    "tags": []
   },
   "outputs": [],
   "source": [
    "def preprocess(df):\n",
    "    df = df.drop([\"EmployeeCount\", \"Over18\", \"StandardHours\"], axis=1)\n",
    "    df[\"OverTime\"] = df[\"OverTime\"].map({\"Yes\": 1, \"No\": 0})\n",
    "    df[\"Gender\"] = df[\"Gender\"].map({\"Male\": 1, \"Female\": 0})\n",
    "    return df"
   ]
  },
  {
   "cell_type": "code",
   "execution_count": 12,
   "id": "11b3db04",
   "metadata": {
    "execution": {
     "iopub.execute_input": "2023-01-22T07:25:13.215353Z",
     "iopub.status.busy": "2023-01-22T07:25:13.214704Z",
     "iopub.status.idle": "2023-01-22T07:25:13.225743Z",
     "shell.execute_reply": "2023-01-22T07:25:13.226273Z",
     "shell.execute_reply.started": "2023-01-22T07:24:14.284605Z"
    },
    "papermill": {
     "duration": 0.061987,
     "end_time": "2023-01-22T07:25:13.226449",
     "exception": false,
     "start_time": "2023-01-22T07:25:13.164462",
     "status": "completed"
    },
    "scrolled": true,
    "tags": []
   },
   "outputs": [],
   "source": [
    "train = preprocess(train)\n",
    "test = preprocess(test)"
   ]
  },
  {
   "cell_type": "code",
   "execution_count": 13,
   "id": "065bfe0d",
   "metadata": {
    "execution": {
     "iopub.execute_input": "2023-01-22T07:25:13.345431Z",
     "iopub.status.busy": "2023-01-22T07:25:13.344746Z",
     "iopub.status.idle": "2023-01-22T07:25:13.349061Z",
     "shell.execute_reply": "2023-01-22T07:25:13.348367Z",
     "shell.execute_reply.started": "2023-01-22T07:24:14.304911Z"
    },
    "papermill": {
     "duration": 0.07521,
     "end_time": "2023-01-22T07:25:13.349213",
     "exception": false,
     "start_time": "2023-01-22T07:25:13.274003",
     "status": "completed"
    },
    "tags": []
   },
   "outputs": [
    {
     "data": {
      "text/html": [
       "<div>\n",
       "<style scoped>\n",
       "    .dataframe tbody tr th:only-of-type {\n",
       "        vertical-align: middle;\n",
       "    }\n",
       "\n",
       "    .dataframe tbody tr th {\n",
       "        vertical-align: top;\n",
       "    }\n",
       "\n",
       "    .dataframe thead th {\n",
       "        text-align: right;\n",
       "    }\n",
       "</style>\n",
       "<table border=\"1\" class=\"dataframe\">\n",
       "  <thead>\n",
       "    <tr style=\"text-align: right;\">\n",
       "      <th></th>\n",
       "      <th>Age</th>\n",
       "      <th>BusinessTravel</th>\n",
       "      <th>DailyRate</th>\n",
       "      <th>Department</th>\n",
       "      <th>DistanceFromHome</th>\n",
       "      <th>Education</th>\n",
       "      <th>EducationField</th>\n",
       "      <th>EnvironmentSatisfaction</th>\n",
       "      <th>Gender</th>\n",
       "      <th>HourlyRate</th>\n",
       "      <th>...</th>\n",
       "      <th>RelationshipSatisfaction</th>\n",
       "      <th>StockOptionLevel</th>\n",
       "      <th>TotalWorkingYears</th>\n",
       "      <th>TrainingTimesLastYear</th>\n",
       "      <th>WorkLifeBalance</th>\n",
       "      <th>YearsAtCompany</th>\n",
       "      <th>YearsInCurrentRole</th>\n",
       "      <th>YearsSinceLastPromotion</th>\n",
       "      <th>YearsWithCurrManager</th>\n",
       "      <th>Attrition</th>\n",
       "    </tr>\n",
       "  </thead>\n",
       "  <tbody>\n",
       "    <tr>\n",
       "      <th>3142</th>\n",
       "      <td>36</td>\n",
       "      <td>Travel_Frequently</td>\n",
       "      <td>884</td>\n",
       "      <td>Research &amp; Development</td>\n",
       "      <td>23</td>\n",
       "      <td>2</td>\n",
       "      <td>Medical</td>\n",
       "      <td>3</td>\n",
       "      <td>1</td>\n",
       "      <td>41</td>\n",
       "      <td>...</td>\n",
       "      <td>3</td>\n",
       "      <td>1</td>\n",
       "      <td>17</td>\n",
       "      <td>3</td>\n",
       "      <td>3</td>\n",
       "      <td>5</td>\n",
       "      <td>2</td>\n",
       "      <td>0</td>\n",
       "      <td>3</td>\n",
       "      <td>0</td>\n",
       "    </tr>\n",
       "    <tr>\n",
       "      <th>3143</th>\n",
       "      <td>39</td>\n",
       "      <td>Travel_Rarely</td>\n",
       "      <td>613</td>\n",
       "      <td>Research &amp; Development</td>\n",
       "      <td>6</td>\n",
       "      <td>1</td>\n",
       "      <td>Medical</td>\n",
       "      <td>4</td>\n",
       "      <td>1</td>\n",
       "      <td>42</td>\n",
       "      <td>...</td>\n",
       "      <td>1</td>\n",
       "      <td>1</td>\n",
       "      <td>9</td>\n",
       "      <td>5</td>\n",
       "      <td>3</td>\n",
       "      <td>7</td>\n",
       "      <td>7</td>\n",
       "      <td>1</td>\n",
       "      <td>7</td>\n",
       "      <td>0</td>\n",
       "    </tr>\n",
       "    <tr>\n",
       "      <th>3144</th>\n",
       "      <td>27</td>\n",
       "      <td>Travel_Rarely</td>\n",
       "      <td>155</td>\n",
       "      <td>Research &amp; Development</td>\n",
       "      <td>4</td>\n",
       "      <td>3</td>\n",
       "      <td>Life Sciences</td>\n",
       "      <td>2</td>\n",
       "      <td>1</td>\n",
       "      <td>87</td>\n",
       "      <td>...</td>\n",
       "      <td>2</td>\n",
       "      <td>1</td>\n",
       "      <td>6</td>\n",
       "      <td>0</td>\n",
       "      <td>3</td>\n",
       "      <td>6</td>\n",
       "      <td>2</td>\n",
       "      <td>0</td>\n",
       "      <td>3</td>\n",
       "      <td>0</td>\n",
       "    </tr>\n",
       "    <tr>\n",
       "      <th>3145</th>\n",
       "      <td>49</td>\n",
       "      <td>Travel_Frequently</td>\n",
       "      <td>1023</td>\n",
       "      <td>Sales</td>\n",
       "      <td>2</td>\n",
       "      <td>3</td>\n",
       "      <td>Medical</td>\n",
       "      <td>4</td>\n",
       "      <td>1</td>\n",
       "      <td>63</td>\n",
       "      <td>...</td>\n",
       "      <td>4</td>\n",
       "      <td>0</td>\n",
       "      <td>17</td>\n",
       "      <td>3</td>\n",
       "      <td>2</td>\n",
       "      <td>9</td>\n",
       "      <td>6</td>\n",
       "      <td>0</td>\n",
       "      <td>8</td>\n",
       "      <td>0</td>\n",
       "    </tr>\n",
       "    <tr>\n",
       "      <th>3146</th>\n",
       "      <td>34</td>\n",
       "      <td>Travel_Rarely</td>\n",
       "      <td>628</td>\n",
       "      <td>Research &amp; Development</td>\n",
       "      <td>8</td>\n",
       "      <td>3</td>\n",
       "      <td>Medical</td>\n",
       "      <td>2</td>\n",
       "      <td>1</td>\n",
       "      <td>82</td>\n",
       "      <td>...</td>\n",
       "      <td>1</td>\n",
       "      <td>0</td>\n",
       "      <td>6</td>\n",
       "      <td>3</td>\n",
       "      <td>4</td>\n",
       "      <td>4</td>\n",
       "      <td>3</td>\n",
       "      <td>1</td>\n",
       "      <td>2</td>\n",
       "      <td>0</td>\n",
       "    </tr>\n",
       "  </tbody>\n",
       "</table>\n",
       "<p>5 rows × 31 columns</p>\n",
       "</div>"
      ],
      "text/plain": [
       "      Age     BusinessTravel  DailyRate              Department  \\\n",
       "3142   36  Travel_Frequently        884  Research & Development   \n",
       "3143   39      Travel_Rarely        613  Research & Development   \n",
       "3144   27      Travel_Rarely        155  Research & Development   \n",
       "3145   49  Travel_Frequently       1023                   Sales   \n",
       "3146   34      Travel_Rarely        628  Research & Development   \n",
       "\n",
       "      DistanceFromHome  Education EducationField  EnvironmentSatisfaction  \\\n",
       "3142                23          2        Medical                        3   \n",
       "3143                 6          1        Medical                        4   \n",
       "3144                 4          3  Life Sciences                        2   \n",
       "3145                 2          3        Medical                        4   \n",
       "3146                 8          3        Medical                        2   \n",
       "\n",
       "      Gender  HourlyRate  ...  RelationshipSatisfaction  StockOptionLevel  \\\n",
       "3142       1          41  ...                         3                 1   \n",
       "3143       1          42  ...                         1                 1   \n",
       "3144       1          87  ...                         2                 1   \n",
       "3145       1          63  ...                         4                 0   \n",
       "3146       1          82  ...                         1                 0   \n",
       "\n",
       "     TotalWorkingYears  TrainingTimesLastYear WorkLifeBalance  YearsAtCompany  \\\n",
       "3142                17                      3               3               5   \n",
       "3143                 9                      5               3               7   \n",
       "3144                 6                      0               3               6   \n",
       "3145                17                      3               2               9   \n",
       "3146                 6                      3               4               4   \n",
       "\n",
       "      YearsInCurrentRole  YearsSinceLastPromotion  YearsWithCurrManager  \\\n",
       "3142                   2                        0                     3   \n",
       "3143                   7                        1                     7   \n",
       "3144                   2                        0                     3   \n",
       "3145                   6                        0                     8   \n",
       "3146                   3                        1                     2   \n",
       "\n",
       "      Attrition  \n",
       "3142          0  \n",
       "3143          0  \n",
       "3144          0  \n",
       "3145          0  \n",
       "3146          0  \n",
       "\n",
       "[5 rows x 31 columns]"
      ]
     },
     "execution_count": 13,
     "metadata": {},
     "output_type": "execute_result"
    }
   ],
   "source": [
    "train.tail()"
   ]
  },
  {
   "cell_type": "markdown",
   "id": "5062e234",
   "metadata": {
    "papermill": {
     "duration": 0.04945,
     "end_time": "2023-01-22T07:25:13.446636",
     "exception": false,
     "start_time": "2023-01-22T07:25:13.397186",
     "status": "completed"
    },
    "tags": []
   },
   "source": [
    "Extracting meaningful and correlated columns"
   ]
  },
  {
   "cell_type": "code",
   "execution_count": 14,
   "id": "19a7d962",
   "metadata": {
    "execution": {
     "iopub.execute_input": "2023-01-22T07:25:13.549966Z",
     "iopub.status.busy": "2023-01-22T07:25:13.549285Z",
     "iopub.status.idle": "2023-01-22T07:25:13.560625Z",
     "shell.execute_reply": "2023-01-22T07:25:13.561160Z",
     "shell.execute_reply.started": "2023-01-22T07:24:14.328272Z"
    },
    "papermill": {
     "duration": 0.06523,
     "end_time": "2023-01-22T07:25:13.561347",
     "exception": false,
     "start_time": "2023-01-22T07:25:13.496117",
     "status": "completed"
    },
    "tags": []
   },
   "outputs": [],
   "source": [
    "corr_df = train.corr()"
   ]
  },
  {
   "cell_type": "code",
   "execution_count": 15,
   "id": "7742cf62",
   "metadata": {
    "execution": {
     "iopub.execute_input": "2023-01-22T07:25:13.661592Z",
     "iopub.status.busy": "2023-01-22T07:25:13.660872Z",
     "iopub.status.idle": "2023-01-22T07:25:13.664842Z",
     "shell.execute_reply": "2023-01-22T07:25:13.665359Z",
     "shell.execute_reply.started": "2023-01-22T07:24:14.344109Z"
    },
    "papermill": {
     "duration": 0.055864,
     "end_time": "2023-01-22T07:25:13.665542",
     "exception": false,
     "start_time": "2023-01-22T07:25:13.609678",
     "status": "completed"
    },
    "tags": []
   },
   "outputs": [],
   "source": [
    "features = list(train.columns)\n",
    "features.remove(\"Attrition\")\n",
    "target = \"Attrition\""
   ]
  },
  {
   "cell_type": "markdown",
   "id": "bd0fc055",
   "metadata": {
    "papermill": {
     "duration": 0.048379,
     "end_time": "2023-01-22T07:25:13.762167",
     "exception": false,
     "start_time": "2023-01-22T07:25:13.713788",
     "status": "completed"
    },
    "tags": []
   },
   "source": [
    "Encoding Our Object Data for both our Train and Test Data"
   ]
  },
  {
   "cell_type": "code",
   "execution_count": 16,
   "id": "b4474e50",
   "metadata": {
    "execution": {
     "iopub.execute_input": "2023-01-22T07:25:13.861867Z",
     "iopub.status.busy": "2023-01-22T07:25:13.861207Z",
     "iopub.status.idle": "2023-01-22T07:25:13.865354Z",
     "shell.execute_reply": "2023-01-22T07:25:13.865976Z",
     "shell.execute_reply.started": "2023-01-22T07:24:14.350028Z"
    },
    "papermill": {
     "duration": 0.055717,
     "end_time": "2023-01-22T07:25:13.866147",
     "exception": false,
     "start_time": "2023-01-22T07:25:13.810430",
     "status": "completed"
    },
    "tags": []
   },
   "outputs": [],
   "source": [
    "def encode(df):\n",
    "    for col in df.columns:\n",
    "        if df[col].dtype == 'object':\n",
    "            le = LabelEncoder()\n",
    "            df[col] = le.fit_transform(df[col])\n",
    "    return df"
   ]
  },
  {
   "cell_type": "code",
   "execution_count": 17,
   "id": "879e655d",
   "metadata": {
    "execution": {
     "iopub.execute_input": "2023-01-22T07:25:13.968499Z",
     "iopub.status.busy": "2023-01-22T07:25:13.967785Z",
     "iopub.status.idle": "2023-01-22T07:25:13.982815Z",
     "shell.execute_reply": "2023-01-22T07:25:13.982248Z",
     "shell.execute_reply.started": "2023-01-22T07:24:14.361188Z"
    },
    "papermill": {
     "duration": 0.068677,
     "end_time": "2023-01-22T07:25:13.982973",
     "exception": false,
     "start_time": "2023-01-22T07:25:13.914296",
     "status": "completed"
    },
    "tags": []
   },
   "outputs": [],
   "source": [
    "train = encode(train)\n",
    "test = encode(test)"
   ]
  },
  {
   "cell_type": "markdown",
   "id": "19bb5bcd",
   "metadata": {
    "papermill": {
     "duration": 0.04763,
     "end_time": "2023-01-22T07:25:14.079709",
     "exception": false,
     "start_time": "2023-01-22T07:25:14.032079",
     "status": "completed"
    },
    "tags": []
   },
   "source": [
    "For appending all our configuration models"
   ]
  },
  {
   "cell_type": "code",
   "execution_count": 18,
   "id": "25820e9b",
   "metadata": {
    "execution": {
     "iopub.execute_input": "2023-01-22T07:25:14.186201Z",
     "iopub.status.busy": "2023-01-22T07:25:14.185481Z",
     "iopub.status.idle": "2023-01-22T07:25:14.187350Z",
     "shell.execute_reply": "2023-01-22T07:25:14.187879Z",
     "shell.execute_reply.started": "2023-01-22T07:24:14.388188Z"
    },
    "papermill": {
     "duration": 0.05969,
     "end_time": "2023-01-22T07:25:14.188058",
     "exception": false,
     "start_time": "2023-01-22T07:25:14.128368",
     "status": "completed"
    },
    "tags": []
   },
   "outputs": [],
   "source": [
    "clfs = []"
   ]
  },
  {
   "cell_type": "markdown",
   "id": "fd8b348d",
   "metadata": {
    "papermill": {
     "duration": 0.048652,
     "end_time": "2023-01-22T07:25:14.285777",
     "exception": false,
     "start_time": "2023-01-22T07:25:14.237125",
     "status": "completed"
    },
    "tags": []
   },
   "source": [
    "----"
   ]
  },
  {
   "cell_type": "markdown",
   "id": "6b3b5a03",
   "metadata": {
    "papermill": {
     "duration": 0.049547,
     "end_time": "2023-01-22T07:25:14.384729",
     "exception": false,
     "start_time": "2023-01-22T07:25:14.335182",
     "status": "completed"
    },
    "tags": []
   },
   "source": [
    "# Extreme Gradient Boosting Model"
   ]
  },
  {
   "cell_type": "markdown",
   "id": "a5a50ae1",
   "metadata": {
    "papermill": {
     "duration": 0.04974,
     "end_time": "2023-01-22T07:25:14.484831",
     "exception": false,
     "start_time": "2023-01-22T07:25:14.435091",
     "status": "completed"
    },
    "tags": []
   },
   "source": [
    "Defining Our Train and Target Data"
   ]
  },
  {
   "cell_type": "code",
   "execution_count": 19,
   "id": "eb6106c3",
   "metadata": {
    "execution": {
     "iopub.execute_input": "2023-01-22T07:25:14.590000Z",
     "iopub.status.busy": "2023-01-22T07:25:14.589288Z",
     "iopub.status.idle": "2023-01-22T07:25:14.592988Z",
     "shell.execute_reply": "2023-01-22T07:25:14.593614Z",
     "shell.execute_reply.started": "2023-01-22T07:24:14.395110Z"
    },
    "papermill": {
     "duration": 0.059346,
     "end_time": "2023-01-22T07:25:14.593789",
     "exception": false,
     "start_time": "2023-01-22T07:25:14.534443",
     "status": "completed"
    },
    "tags": []
   },
   "outputs": [],
   "source": [
    "X = train.drop([\"Attrition\"], axis=1)\n",
    "y = train[\"Attrition\"]"
   ]
  },
  {
   "cell_type": "markdown",
   "id": "00023b7a",
   "metadata": {
    "papermill": {
     "duration": 0.048096,
     "end_time": "2023-01-22T07:25:14.689966",
     "exception": false,
     "start_time": "2023-01-22T07:25:14.641870",
     "status": "completed"
    },
    "tags": []
   },
   "source": [
    "Spliting Our Data into Train and Validation Sets"
   ]
  },
  {
   "cell_type": "code",
   "execution_count": 20,
   "id": "10d8e2f1",
   "metadata": {
    "execution": {
     "iopub.execute_input": "2023-01-22T07:25:14.789623Z",
     "iopub.status.busy": "2023-01-22T07:25:14.788979Z",
     "iopub.status.idle": "2023-01-22T07:25:14.795158Z",
     "shell.execute_reply": "2023-01-22T07:25:14.795703Z",
     "shell.execute_reply.started": "2023-01-22T07:24:14.407263Z"
    },
    "papermill": {
     "duration": 0.057593,
     "end_time": "2023-01-22T07:25:14.795884",
     "exception": false,
     "start_time": "2023-01-22T07:25:14.738291",
     "status": "completed"
    },
    "tags": []
   },
   "outputs": [],
   "source": [
    "X_train, X_val, y_train, y_val = train_test_split(X, y, test_size=0.2, random_state=42)"
   ]
  },
  {
   "cell_type": "markdown",
   "id": "72f7b1bf",
   "metadata": {
    "papermill": {
     "duration": 0.047799,
     "end_time": "2023-01-22T07:25:14.892128",
     "exception": false,
     "start_time": "2023-01-22T07:25:14.844329",
     "status": "completed"
    },
    "tags": []
   },
   "source": [
    "Spliting Data into Train and Validation Sets"
   ]
  },
  {
   "cell_type": "code",
   "execution_count": 21,
   "id": "af14a0dd",
   "metadata": {
    "execution": {
     "iopub.execute_input": "2023-01-22T07:25:14.992018Z",
     "iopub.status.busy": "2023-01-22T07:25:14.991350Z",
     "iopub.status.idle": "2023-01-22T07:25:14.997480Z",
     "shell.execute_reply": "2023-01-22T07:25:14.997967Z",
     "shell.execute_reply.started": "2023-01-22T07:24:14.420392Z"
    },
    "papermill": {
     "duration": 0.05787,
     "end_time": "2023-01-22T07:25:14.998145",
     "exception": false,
     "start_time": "2023-01-22T07:25:14.940275",
     "status": "completed"
    },
    "tags": []
   },
   "outputs": [],
   "source": [
    "X_train, X_val, y_train, y_val = train_test_split(X, y, test_size=0.2, random_state=42)"
   ]
  },
  {
   "cell_type": "markdown",
   "id": "9b7caaac",
   "metadata": {
    "papermill": {
     "duration": 0.048333,
     "end_time": "2023-01-22T07:25:15.094773",
     "exception": false,
     "start_time": "2023-01-22T07:25:15.046440",
     "status": "completed"
    },
    "tags": []
   },
   "source": [
    "Defining XGBoost Model"
   ]
  },
  {
   "cell_type": "code",
   "execution_count": 22,
   "id": "0dc5ff49",
   "metadata": {
    "execution": {
     "iopub.execute_input": "2023-01-22T07:25:15.195892Z",
     "iopub.status.busy": "2023-01-22T07:25:15.195187Z",
     "iopub.status.idle": "2023-01-22T07:25:15.198447Z",
     "shell.execute_reply": "2023-01-22T07:25:15.199003Z",
     "shell.execute_reply.started": "2023-01-22T07:24:14.433488Z"
    },
    "papermill": {
     "duration": 0.055786,
     "end_time": "2023-01-22T07:25:15.199187",
     "exception": false,
     "start_time": "2023-01-22T07:25:15.143401",
     "status": "completed"
    },
    "tags": []
   },
   "outputs": [],
   "source": [
    "xgb = XGBRegressor()"
   ]
  },
  {
   "cell_type": "markdown",
   "id": "5d5b0e27",
   "metadata": {
    "papermill": {
     "duration": 0.047914,
     "end_time": "2023-01-22T07:25:15.295615",
     "exception": false,
     "start_time": "2023-01-22T07:25:15.247701",
     "status": "completed"
    },
    "tags": []
   },
   "source": [
    "Fitting and Predicting the Data"
   ]
  },
  {
   "cell_type": "code",
   "execution_count": 23,
   "id": "696e6828",
   "metadata": {
    "execution": {
     "iopub.execute_input": "2023-01-22T07:25:15.397231Z",
     "iopub.status.busy": "2023-01-22T07:25:15.396606Z",
     "iopub.status.idle": "2023-01-22T07:25:15.761357Z",
     "shell.execute_reply": "2023-01-22T07:25:15.760697Z",
     "shell.execute_reply.started": "2023-01-22T07:24:14.444819Z"
    },
    "papermill": {
     "duration": 0.417564,
     "end_time": "2023-01-22T07:25:15.761514",
     "exception": false,
     "start_time": "2023-01-22T07:25:15.343950",
     "status": "completed"
    },
    "tags": []
   },
   "outputs": [
    {
     "data": {
      "text/plain": [
       "XGBRegressor(base_score=0.5, booster='gbtree', colsample_bylevel=1,\n",
       "             colsample_bynode=1, colsample_bytree=1, gamma=0, gpu_id=-1,\n",
       "             importance_type='gain', interaction_constraints='',\n",
       "             learning_rate=0.300000012, max_delta_step=0, max_depth=6,\n",
       "             min_child_weight=1, missing=nan, monotone_constraints='()',\n",
       "             n_estimators=100, n_jobs=4, num_parallel_tree=1, random_state=0,\n",
       "             reg_alpha=0, reg_lambda=1, scale_pos_weight=1, subsample=1,\n",
       "             tree_method='exact', validate_parameters=1, verbosity=None)"
      ]
     },
     "execution_count": 23,
     "metadata": {},
     "output_type": "execute_result"
    }
   ],
   "source": [
    "xgb.fit(X_train, y_train)"
   ]
  },
  {
   "cell_type": "code",
   "execution_count": 24,
   "id": "3c3490a3",
   "metadata": {
    "execution": {
     "iopub.execute_input": "2023-01-22T07:25:15.864351Z",
     "iopub.status.busy": "2023-01-22T07:25:15.863482Z",
     "iopub.status.idle": "2023-01-22T07:25:15.880301Z",
     "shell.execute_reply": "2023-01-22T07:25:15.881775Z",
     "shell.execute_reply.started": "2023-01-22T07:24:14.841881Z"
    },
    "papermill": {
     "duration": 0.071305,
     "end_time": "2023-01-22T07:25:15.881982",
     "exception": false,
     "start_time": "2023-01-22T07:25:15.810677",
     "status": "completed"
    },
    "tags": []
   },
   "outputs": [],
   "source": [
    "xgb_pred = xgb.predict(X_val)"
   ]
  },
  {
   "cell_type": "markdown",
   "id": "0eda0e56",
   "metadata": {
    "papermill": {
     "duration": 0.048771,
     "end_time": "2023-01-22T07:25:15.979670",
     "exception": false,
     "start_time": "2023-01-22T07:25:15.930899",
     "status": "completed"
    },
    "tags": []
   },
   "source": [
    "Score for XGB Model"
   ]
  },
  {
   "cell_type": "code",
   "execution_count": 25,
   "id": "e8b1b42d",
   "metadata": {
    "execution": {
     "iopub.execute_input": "2023-01-22T07:25:16.083198Z",
     "iopub.status.busy": "2023-01-22T07:25:16.082475Z",
     "iopub.status.idle": "2023-01-22T07:25:16.089041Z",
     "shell.execute_reply": "2023-01-22T07:25:16.088359Z",
     "shell.execute_reply.started": "2023-01-22T07:24:14.875992Z"
    },
    "papermill": {
     "duration": 0.060891,
     "end_time": "2023-01-22T07:25:16.089197",
     "exception": false,
     "start_time": "2023-01-22T07:25:16.028306",
     "status": "completed"
    },
    "tags": []
   },
   "outputs": [],
   "source": [
    "xgb_score = roc_auc_score(y_val, xgb_pred)"
   ]
  },
  {
   "cell_type": "code",
   "execution_count": 26,
   "id": "3fc2428d",
   "metadata": {
    "execution": {
     "iopub.execute_input": "2023-01-22T07:25:16.193344Z",
     "iopub.status.busy": "2023-01-22T07:25:16.192616Z",
     "iopub.status.idle": "2023-01-22T07:25:16.196286Z",
     "shell.execute_reply": "2023-01-22T07:25:16.195766Z",
     "shell.execute_reply.started": "2023-01-22T07:24:14.887590Z"
    },
    "papermill": {
     "duration": 0.058198,
     "end_time": "2023-01-22T07:25:16.196430",
     "exception": false,
     "start_time": "2023-01-22T07:25:16.138232",
     "status": "completed"
    },
    "tags": []
   },
   "outputs": [
    {
     "data": {
      "text/plain": [
       "0.7664609053497943"
      ]
     },
     "execution_count": 26,
     "metadata": {},
     "output_type": "execute_result"
    }
   ],
   "source": [
    "xgb_score"
   ]
  },
  {
   "cell_type": "markdown",
   "id": "4f1199cb",
   "metadata": {
    "papermill": {
     "duration": 0.048504,
     "end_time": "2023-01-22T07:25:16.294392",
     "exception": false,
     "start_time": "2023-01-22T07:25:16.245888",
     "status": "completed"
    },
    "tags": []
   },
   "source": [
    "XGB performs poorly than CBR and LGBR, so we won't consider it in the final clfs."
   ]
  },
  {
   "cell_type": "markdown",
   "id": "86ec8bb9",
   "metadata": {
    "papermill": {
     "duration": 0.048608,
     "end_time": "2023-01-22T07:25:16.392360",
     "exception": false,
     "start_time": "2023-01-22T07:25:16.343752",
     "status": "completed"
    },
    "tags": []
   },
   "source": [
    "----"
   ]
  },
  {
   "cell_type": "markdown",
   "id": "b4442163",
   "metadata": {
    "papermill": {
     "duration": 0.04985,
     "end_time": "2023-01-22T07:25:16.492969",
     "exception": false,
     "start_time": "2023-01-22T07:25:16.443119",
     "status": "completed"
    },
    "tags": []
   },
   "source": [
    "# CatBoostRegressor Model"
   ]
  },
  {
   "cell_type": "markdown",
   "id": "255acf17",
   "metadata": {
    "papermill": {
     "duration": 0.048785,
     "end_time": "2023-01-22T07:25:16.590863",
     "exception": false,
     "start_time": "2023-01-22T07:25:16.542078",
     "status": "completed"
    },
    "tags": []
   },
   "source": [
    "Defining Train and Target Data"
   ]
  },
  {
   "cell_type": "code",
   "execution_count": 27,
   "id": "d2fd4169",
   "metadata": {
    "execution": {
     "iopub.execute_input": "2023-01-22T07:25:16.696741Z",
     "iopub.status.busy": "2023-01-22T07:25:16.696031Z",
     "iopub.status.idle": "2023-01-22T07:25:16.699734Z",
     "shell.execute_reply": "2023-01-22T07:25:16.699081Z",
     "shell.execute_reply.started": "2023-01-22T07:24:14.901123Z"
    },
    "papermill": {
     "duration": 0.058426,
     "end_time": "2023-01-22T07:25:16.699890",
     "exception": false,
     "start_time": "2023-01-22T07:25:16.641464",
     "status": "completed"
    },
    "tags": []
   },
   "outputs": [],
   "source": [
    "X = train.drop([\"Attrition\"], axis=1)\n",
    "y = train[\"Attrition\"]"
   ]
  },
  {
   "cell_type": "markdown",
   "id": "7c6a002f",
   "metadata": {
    "papermill": {
     "duration": 0.048381,
     "end_time": "2023-01-22T07:25:16.797696",
     "exception": false,
     "start_time": "2023-01-22T07:25:16.749315",
     "status": "completed"
    },
    "tags": []
   },
   "source": [
    "Defining Stratified KFold for CBR"
   ]
  },
  {
   "cell_type": "code",
   "execution_count": 28,
   "id": "6787863f",
   "metadata": {
    "execution": {
     "iopub.execute_input": "2023-01-22T07:25:16.900945Z",
     "iopub.status.busy": "2023-01-22T07:25:16.900256Z",
     "iopub.status.idle": "2023-01-22T07:25:16.903408Z",
     "shell.execute_reply": "2023-01-22T07:25:16.902924Z",
     "shell.execute_reply.started": "2023-01-22T07:24:14.916372Z"
    },
    "papermill": {
     "duration": 0.057071,
     "end_time": "2023-01-22T07:25:16.903589",
     "exception": false,
     "start_time": "2023-01-22T07:25:16.846518",
     "status": "completed"
    },
    "tags": []
   },
   "outputs": [],
   "source": [
    "kfold = StratifiedKFold(n_splits = 10, shuffle = True, random_state = 42)"
   ]
  },
  {
   "cell_type": "code",
   "execution_count": 29,
   "id": "f795e504",
   "metadata": {
    "execution": {
     "iopub.execute_input": "2023-01-22T07:25:17.006089Z",
     "iopub.status.busy": "2023-01-22T07:25:17.005381Z",
     "iopub.status.idle": "2023-01-22T07:25:17.008294Z",
     "shell.execute_reply": "2023-01-22T07:25:17.007695Z",
     "shell.execute_reply.started": "2023-01-22T07:24:14.924911Z"
    },
    "papermill": {
     "duration": 0.0564,
     "end_time": "2023-01-22T07:25:17.008444",
     "exception": false,
     "start_time": "2023-01-22T07:25:16.952044",
     "status": "completed"
    },
    "tags": []
   },
   "outputs": [],
   "source": [
    "cbr_score = []"
   ]
  },
  {
   "cell_type": "markdown",
   "id": "2817e807",
   "metadata": {
    "papermill": {
     "duration": 0.048607,
     "end_time": "2023-01-22T07:25:17.106043",
     "exception": false,
     "start_time": "2023-01-22T07:25:17.057436",
     "status": "completed"
    },
    "tags": []
   },
   "source": [
    "Spliting Data | Fitting the Model | Mean Score"
   ]
  },
  {
   "cell_type": "code",
   "execution_count": 30,
   "id": "f666593c",
   "metadata": {
    "execution": {
     "iopub.execute_input": "2023-01-22T07:25:17.212966Z",
     "iopub.status.busy": "2023-01-22T07:25:17.212215Z",
     "iopub.status.idle": "2023-01-22T07:25:21.872423Z",
     "shell.execute_reply": "2023-01-22T07:25:21.872908Z",
     "shell.execute_reply.started": "2023-01-22T07:24:14.938046Z"
    },
    "papermill": {
     "duration": 4.717604,
     "end_time": "2023-01-22T07:25:21.873098",
     "exception": false,
     "start_time": "2023-01-22T07:25:17.155494",
     "status": "completed"
    },
    "tags": []
   },
   "outputs": [
    {
     "name": "stdout",
     "output_type": "stream",
     "text": [
      "0.8464189869171419\n"
     ]
    }
   ],
   "source": [
    "for train_index, test_index in kfold.split(X, y):\n",
    "    X_train, X_val = X.iloc[train_index], X.iloc[test_index]\n",
    "    y_train, y_val = y.iloc[train_index], y.iloc[test_index]\n",
    "    pool_train = Pool(X_train, y_train)\n",
    "    pool_val = Pool(X_val, y_val)\n",
    "    cbr = CatBoostRegressor(iterations = 200)\n",
    "    cbr.fit(pool_train, eval_set =(X_val, y_val), verbose=False)\n",
    "    cbr_preds = cbr.predict(X_val)    \n",
    "    clfs.append(cbr)\n",
    "    cbr_score.append(roc_auc_score(y_val, cbr_preds))\n",
    "print(np.mean(cbr_score))"
   ]
  },
  {
   "cell_type": "markdown",
   "id": "5a6f5177",
   "metadata": {
    "papermill": {
     "duration": 0.048455,
     "end_time": "2023-01-22T07:25:21.970499",
     "exception": false,
     "start_time": "2023-01-22T07:25:21.922044",
     "status": "completed"
    },
    "tags": []
   },
   "source": [
    "----"
   ]
  },
  {
   "cell_type": "markdown",
   "id": "5f6d6b61",
   "metadata": {
    "papermill": {
     "duration": 0.048489,
     "end_time": "2023-01-22T07:25:22.067747",
     "exception": false,
     "start_time": "2023-01-22T07:25:22.019258",
     "status": "completed"
    },
    "tags": []
   },
   "source": [
    "# LightGradientBoostRegressor Model"
   ]
  },
  {
   "cell_type": "markdown",
   "id": "d041f8d1",
   "metadata": {
    "papermill": {
     "duration": 0.048486,
     "end_time": "2023-01-22T07:25:22.165020",
     "exception": false,
     "start_time": "2023-01-22T07:25:22.116534",
     "status": "completed"
    },
    "tags": []
   },
   "source": [
    "Defining Train and Target Data"
   ]
  },
  {
   "cell_type": "code",
   "execution_count": 31,
   "id": "fe3572ca",
   "metadata": {
    "execution": {
     "iopub.execute_input": "2023-01-22T07:25:22.271307Z",
     "iopub.status.busy": "2023-01-22T07:25:22.270196Z",
     "iopub.status.idle": "2023-01-22T07:25:22.273053Z",
     "shell.execute_reply": "2023-01-22T07:25:22.272484Z",
     "shell.execute_reply.started": "2023-01-22T07:24:19.470789Z"
    },
    "papermill": {
     "duration": 0.058616,
     "end_time": "2023-01-22T07:25:22.273203",
     "exception": false,
     "start_time": "2023-01-22T07:25:22.214587",
     "status": "completed"
    },
    "tags": []
   },
   "outputs": [],
   "source": [
    "X = train.drop([\"Attrition\"], axis=1)\n",
    "y = train[\"Attrition\"]"
   ]
  },
  {
   "cell_type": "markdown",
   "id": "b42ef8d5",
   "metadata": {
    "papermill": {
     "duration": 0.049236,
     "end_time": "2023-01-22T07:25:22.371627",
     "exception": false,
     "start_time": "2023-01-22T07:25:22.322391",
     "status": "completed"
    },
    "tags": []
   },
   "source": [
    "Defining Stratified Kfold for LGBR"
   ]
  },
  {
   "cell_type": "code",
   "execution_count": 32,
   "id": "b4d12706",
   "metadata": {
    "execution": {
     "iopub.execute_input": "2023-01-22T07:25:22.475925Z",
     "iopub.status.busy": "2023-01-22T07:25:22.475191Z",
     "iopub.status.idle": "2023-01-22T07:25:22.478698Z",
     "shell.execute_reply": "2023-01-22T07:25:22.479202Z",
     "shell.execute_reply.started": "2023-01-22T07:24:19.477891Z"
    },
    "papermill": {
     "duration": 0.058444,
     "end_time": "2023-01-22T07:25:22.479381",
     "exception": false,
     "start_time": "2023-01-22T07:25:22.420937",
     "status": "completed"
    },
    "tags": []
   },
   "outputs": [],
   "source": [
    "kfold = StratifiedKFold(n_splits = 10, shuffle = True, random_state = 42)"
   ]
  },
  {
   "cell_type": "code",
   "execution_count": 33,
   "id": "67948364",
   "metadata": {
    "execution": {
     "iopub.execute_input": "2023-01-22T07:25:22.583178Z",
     "iopub.status.busy": "2023-01-22T07:25:22.582350Z",
     "iopub.status.idle": "2023-01-22T07:25:22.585307Z",
     "shell.execute_reply": "2023-01-22T07:25:22.584671Z",
     "shell.execute_reply.started": "2023-01-22T07:24:19.489755Z"
    },
    "papermill": {
     "duration": 0.056753,
     "end_time": "2023-01-22T07:25:22.585452",
     "exception": false,
     "start_time": "2023-01-22T07:25:22.528699",
     "status": "completed"
    },
    "tags": []
   },
   "outputs": [],
   "source": [
    "lgbr_score = []"
   ]
  },
  {
   "cell_type": "markdown",
   "id": "1f2e9d51",
   "metadata": {
    "papermill": {
     "duration": 0.04888,
     "end_time": "2023-01-22T07:25:22.686203",
     "exception": false,
     "start_time": "2023-01-22T07:25:22.637323",
     "status": "completed"
    },
    "tags": []
   },
   "source": [
    "Spliting Data | Fitting the Model | Mean Score"
   ]
  },
  {
   "cell_type": "code",
   "execution_count": 34,
   "id": "10f69346",
   "metadata": {
    "execution": {
     "iopub.execute_input": "2023-01-22T07:25:22.790772Z",
     "iopub.status.busy": "2023-01-22T07:25:22.790065Z",
     "iopub.status.idle": "2023-01-22T07:25:25.792478Z",
     "shell.execute_reply": "2023-01-22T07:25:25.793480Z",
     "shell.execute_reply.started": "2023-01-22T07:24:19.500470Z"
    },
    "papermill": {
     "duration": 3.058751,
     "end_time": "2023-01-22T07:25:25.793702",
     "exception": false,
     "start_time": "2023-01-22T07:25:22.734951",
     "status": "completed"
    },
    "tags": []
   },
   "outputs": [
    {
     "name": "stdout",
     "output_type": "stream",
     "text": [
      "0.8125092640989834\n"
     ]
    }
   ],
   "source": [
    "for train_index, test_index in kfold.split(X, y):\n",
    "    X_train, X_val = X.iloc[train_index], X.iloc[test_index]\n",
    "    y_train, y_val = y.iloc[train_index], y.iloc[test_index]\n",
    "    lgbr = LGBMRegressor(n_estimators = 200)\n",
    "    lgbr.fit(X_train, y_train)\n",
    "    lgbr_preds = lgbr.predict(X_val)\n",
    "    clfs.append(lgbr)\n",
    "    lgbr_score.append(roc_auc_score(y_val, lgbr_preds))\n",
    "print(np.mean(lgbr_score))"
   ]
  },
  {
   "cell_type": "markdown",
   "id": "c445917b",
   "metadata": {
    "papermill": {
     "duration": 0.048784,
     "end_time": "2023-01-22T07:25:25.893091",
     "exception": false,
     "start_time": "2023-01-22T07:25:25.844307",
     "status": "completed"
    },
    "tags": []
   },
   "source": [
    "----"
   ]
  },
  {
   "cell_type": "markdown",
   "id": "3160c20c",
   "metadata": {
    "papermill": {
     "duration": 0.049075,
     "end_time": "2023-01-22T07:25:25.991301",
     "exception": false,
     "start_time": "2023-01-22T07:25:25.942226",
     "status": "completed"
    },
    "tags": []
   },
   "source": [
    "# Predicting Validation Results "
   ]
  },
  {
   "cell_type": "markdown",
   "id": "b3644cc4",
   "metadata": {
    "papermill": {
     "duration": 0.049012,
     "end_time": "2023-01-22T07:25:26.089401",
     "exception": false,
     "start_time": "2023-01-22T07:25:26.040389",
     "status": "completed"
    },
    "tags": []
   },
   "source": [
    "Defining Train and Target Data"
   ]
  },
  {
   "cell_type": "code",
   "execution_count": 35,
   "id": "175aa142",
   "metadata": {
    "execution": {
     "iopub.execute_input": "2023-01-22T07:25:26.196289Z",
     "iopub.status.busy": "2023-01-22T07:25:26.195351Z",
     "iopub.status.idle": "2023-01-22T07:25:26.197400Z",
     "shell.execute_reply": "2023-01-22T07:25:26.197871Z",
     "shell.execute_reply.started": "2023-01-22T07:24:22.441328Z"
    },
    "papermill": {
     "duration": 0.059593,
     "end_time": "2023-01-22T07:25:26.198052",
     "exception": false,
     "start_time": "2023-01-22T07:25:26.138459",
     "status": "completed"
    },
    "tags": []
   },
   "outputs": [],
   "source": [
    "X = train.drop([\"Attrition\"], axis=1)\n",
    "y = train[\"Attrition\"]"
   ]
  },
  {
   "cell_type": "markdown",
   "id": "344a5f17",
   "metadata": {
    "papermill": {
     "duration": 0.051342,
     "end_time": "2023-01-22T07:25:26.299202",
     "exception": false,
     "start_time": "2023-01-22T07:25:26.247860",
     "status": "completed"
    },
    "tags": []
   },
   "source": [
    "Predict Score"
   ]
  },
  {
   "cell_type": "code",
   "execution_count": 36,
   "id": "33090343",
   "metadata": {
    "execution": {
     "iopub.execute_input": "2023-01-22T07:25:26.404927Z",
     "iopub.status.busy": "2023-01-22T07:25:26.404258Z",
     "iopub.status.idle": "2023-01-22T07:25:26.674805Z",
     "shell.execute_reply": "2023-01-22T07:25:26.675420Z",
     "shell.execute_reply.started": "2023-01-22T07:24:22.450591Z"
    },
    "papermill": {
     "duration": 0.326114,
     "end_time": "2023-01-22T07:25:26.675655",
     "exception": false,
     "start_time": "2023-01-22T07:25:26.349541",
     "status": "completed"
    },
    "tags": []
   },
   "outputs": [],
   "source": [
    "for clf in clfs:\n",
    "    pred = clf.predict(X)\n",
    "    score = roc_auc_score(y, pred)"
   ]
  },
  {
   "cell_type": "code",
   "execution_count": 37,
   "id": "39043dd9",
   "metadata": {
    "execution": {
     "iopub.execute_input": "2023-01-22T07:25:26.782048Z",
     "iopub.status.busy": "2023-01-22T07:25:26.781366Z",
     "iopub.status.idle": "2023-01-22T07:25:26.784204Z",
     "shell.execute_reply": "2023-01-22T07:25:26.784839Z",
     "shell.execute_reply.started": "2023-01-22T07:24:22.734156Z"
    },
    "papermill": {
     "duration": 0.058129,
     "end_time": "2023-01-22T07:25:26.785013",
     "exception": false,
     "start_time": "2023-01-22T07:25:26.726884",
     "status": "completed"
    },
    "tags": []
   },
   "outputs": [
    {
     "data": {
      "text/plain": [
       "0.9841024428550922"
      ]
     },
     "execution_count": 37,
     "metadata": {},
     "output_type": "execute_result"
    }
   ],
   "source": [
    "score"
   ]
  },
  {
   "attachments": {},
   "cell_type": "markdown",
   "id": "5d208004",
   "metadata": {
    "papermill": {
     "duration": 0.049399,
     "end_time": "2023-01-22T07:25:26.883702",
     "exception": false,
     "start_time": "2023-01-22T07:25:26.834303",
     "status": "completed"
    },
    "tags": []
   },
   "source": [
    "# Predicting Test Results on Ensembled Models"
   ]
  },
  {
   "cell_type": "code",
   "execution_count": 38,
   "id": "df9570d9",
   "metadata": {
    "execution": {
     "iopub.execute_input": "2023-01-22T07:25:26.988222Z",
     "iopub.status.busy": "2023-01-22T07:25:26.987593Z",
     "iopub.status.idle": "2023-01-22T07:25:27.097973Z",
     "shell.execute_reply": "2023-01-22T07:25:27.098680Z",
     "shell.execute_reply.started": "2023-01-22T07:24:22.745417Z"
    },
    "papermill": {
     "duration": 0.163591,
     "end_time": "2023-01-22T07:25:27.098949",
     "exception": false,
     "start_time": "2023-01-22T07:25:26.935358",
     "status": "completed"
    },
    "tags": []
   },
   "outputs": [],
   "source": [
    "for clf in clfs:\n",
    "    clf_pred = clf.predict(test)"
   ]
  },
  {
   "cell_type": "markdown",
   "id": "7d3cc7e2",
   "metadata": {
    "papermill": {
     "duration": 0.051559,
     "end_time": "2023-01-22T07:25:27.204834",
     "exception": false,
     "start_time": "2023-01-22T07:25:27.153275",
     "status": "completed"
    },
    "tags": []
   },
   "source": [
    "# Submissions"
   ]
  },
  {
   "cell_type": "markdown",
   "id": "d098f28e",
   "metadata": {
    "papermill": {
     "duration": 0.050202,
     "end_time": "2023-01-22T07:25:27.305011",
     "exception": false,
     "start_time": "2023-01-22T07:25:27.254809",
     "status": "completed"
    },
    "tags": []
   },
   "source": [
    "Reading Submissions.csv"
   ]
  },
  {
   "cell_type": "code",
   "execution_count": 39,
   "id": "0b521e78",
   "metadata": {
    "execution": {
     "iopub.execute_input": "2023-01-22T07:25:27.411468Z",
     "iopub.status.busy": "2023-01-22T07:25:27.410824Z",
     "iopub.status.idle": "2023-01-22T07:25:27.421986Z",
     "shell.execute_reply": "2023-01-22T07:25:27.421307Z",
     "shell.execute_reply.started": "2023-01-22T07:24:22.932384Z"
    },
    "papermill": {
     "duration": 0.065514,
     "end_time": "2023-01-22T07:25:27.422130",
     "exception": false,
     "start_time": "2023-01-22T07:25:27.356616",
     "status": "completed"
    },
    "tags": []
   },
   "outputs": [],
   "source": [
    "submission = pd.read_csv(\"/kaggle/input/playground-series-s3e3/sample_submission.csv\", usecols = [\"id\"])"
   ]
  },
  {
   "cell_type": "code",
   "execution_count": 40,
   "id": "8c4d490a",
   "metadata": {
    "execution": {
     "iopub.execute_input": "2023-01-22T07:25:27.530616Z",
     "iopub.status.busy": "2023-01-22T07:25:27.529962Z",
     "iopub.status.idle": "2023-01-22T07:25:27.531659Z",
     "shell.execute_reply": "2023-01-22T07:25:27.532143Z",
     "shell.execute_reply.started": "2023-01-22T07:24:22.950038Z"
    },
    "papermill": {
     "duration": 0.059881,
     "end_time": "2023-01-22T07:25:27.532307",
     "exception": false,
     "start_time": "2023-01-22T07:25:27.472426",
     "status": "completed"
    },
    "tags": []
   },
   "outputs": [],
   "source": [
    "submission[\"Attrition\"] = clf_pred"
   ]
  },
  {
   "cell_type": "markdown",
   "id": "f25684d2",
   "metadata": {
    "papermill": {
     "duration": 0.052698,
     "end_time": "2023-01-22T07:25:27.636992",
     "exception": false,
     "start_time": "2023-01-22T07:25:27.584294",
     "status": "completed"
    },
    "tags": []
   },
   "source": [
    "Saving Our Final submission.csv"
   ]
  },
  {
   "cell_type": "code",
   "execution_count": 41,
   "id": "9b60f8e6",
   "metadata": {
    "execution": {
     "iopub.execute_input": "2023-01-22T07:25:27.759877Z",
     "iopub.status.busy": "2023-01-22T07:25:27.759161Z",
     "iopub.status.idle": "2023-01-22T07:25:27.770393Z",
     "shell.execute_reply": "2023-01-22T07:25:27.769785Z",
     "shell.execute_reply.started": "2023-01-22T07:24:22.956251Z"
    },
    "papermill": {
     "duration": 0.072585,
     "end_time": "2023-01-22T07:25:27.770542",
     "exception": false,
     "start_time": "2023-01-22T07:25:27.697957",
     "status": "completed"
    },
    "tags": []
   },
   "outputs": [],
   "source": [
    "submission.to_csv(\"submission.csv\", index = False)"
   ]
  },
  {
   "cell_type": "markdown",
   "id": "bf8bea56",
   "metadata": {
    "papermill": {
     "duration": 0.102501,
     "end_time": "2023-01-22T07:25:27.922909",
     "exception": false,
     "start_time": "2023-01-22T07:25:27.820408",
     "status": "completed"
    },
    "tags": []
   },
   "source": [
    "----"
   ]
  }
 ],
 "metadata": {
  "kernelspec": {
   "display_name": "Python 3",
   "language": "python",
   "name": "python3"
  },
  "language_info": {
   "codemirror_mode": {
    "name": "ipython",
    "version": 3
   },
   "file_extension": ".py",
   "mimetype": "text/x-python",
   "name": "python",
   "nbconvert_exporter": "python",
   "pygments_lexer": "ipython3",
   "version": "3.7.10"
  },
  "papermill": {
   "default_parameters": {},
   "duration": 28.837288,
   "end_time": "2023-01-22T07:25:29.464808",
   "environment_variables": {},
   "exception": null,
   "input_path": "__notebook__.ipynb",
   "output_path": "__notebook__.ipynb",
   "parameters": {},
   "start_time": "2023-01-22T07:25:00.627520",
   "version": "2.3.3"
  }
 },
 "nbformat": 4,
 "nbformat_minor": 5
}
